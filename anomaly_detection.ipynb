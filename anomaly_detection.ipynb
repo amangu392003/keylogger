{
 "cells": [
  {
   "cell_type": "code",
   "execution_count": null,
   "id": "26d81ee1",
   "metadata": {},
   "outputs": [],
   "source": [
    "import pandas as pd\n",
    "\n",
    "def detect_anomalies(features_df, profile, threshold=3):\n",
    "    anomalies = []\n",
    "    mean = profile['mean_flight_time']\n",
    "    std = profile['std_flight_time']\n",
    "\n",
    "    for idx, row in features_df.iterrows():\n",
    "        if abs(row['flight_time'] - mean) > threshold * std:\n",
    "            anomalies.append({'timestamp': row['timestamp'], 'flight_time': row['flight_time']})\n",
    "    return anomalies\n",
    "\n",
    "if _name_ == \"_main_\":\n",
    "    features_df = pd.read_csv(\"features.csv\")\n",
    "    profile = {'mean_flight_time': features_df['flight_time'].mean(), 'std_flight_time': features_df['flight_time'].std()}\n",
    "    anomalies = detect_anomalies(features_df, profile)\n",
    "    if anomalies:\n",
    "        print(f\"Alert! Detected {len(anomalies)} anomalies:\")\n",
    "        for a in anomalies:\n",
    "            print(a)\n",
    "    else:\n",
    "        print(\"No anomalies detected.\")\n"
   ]
  }
 ],
 "metadata": {
  "kernelspec": {
   "display_name": "Python 3 (ipykernel)",
   "language": "python",
   "name": "python3"
  },
  "language_info": {
   "codemirror_mode": {
    "name": "ipython",
    "version": 3
   },
   "file_extension": ".py",
   "mimetype": "text/x-python",
   "name": "python",
   "nbconvert_exporter": "python",
   "pygments_lexer": "ipython3",
   "version": "3.11.5"
  }
 },
 "nbformat": 4,
 "nbformat_minor": 5
}
